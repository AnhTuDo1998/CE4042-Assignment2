{
 "cells": [
  {
   "cell_type": "code",
   "execution_count": 1,
   "metadata": {
    "executionInfo": {
     "elapsed": 15767,
     "status": "ok",
     "timestamp": 1604669314420,
     "user": {
      "displayName": "Anh Tú Đỗ",
      "photoUrl": "https://lh3.googleusercontent.com/a-/AOh14Ghp14Wne_q6bWGUed10hxmbIVNasEt-giIP8qLB=s64",
      "userId": "06292639486663493436"
     },
     "user_tz": -480
    },
    "id": "bg53T2K3POuP"
   },
   "outputs": [],
   "source": [
    "#Collab bootstrapping for accessing files from google drive\n",
    "from pydrive.auth import GoogleAuth\n",
    "from pydrive.drive import GoogleDrive\n",
    "from google.colab import auth\n",
    "from oauth2client.client import GoogleCredentials\n",
    "\n",
    "auth.authenticate_user()\n",
    "gauth = GoogleAuth()\n",
    "gauth.credentials = GoogleCredentials.get_application_default()\n",
    "drive = GoogleDrive(gauth)"
   ]
  },
  {
   "cell_type": "code",
   "execution_count": 2,
   "metadata": {
    "executionInfo": {
     "elapsed": 21493,
     "status": "ok",
     "timestamp": 1604669320154,
     "user": {
      "displayName": "Anh Tú Đỗ",
      "photoUrl": "https://lh3.googleusercontent.com/a-/AOh14Ghp14Wne_q6bWGUed10hxmbIVNasEt-giIP8qLB=s64",
      "userId": "06292639486663493436"
     },
     "user_tz": -480
    },
    "id": "ilDi6xU9PnLW"
   },
   "outputs": [],
   "source": [
    "#Get test_medium.csv\n",
    "downloaded = drive.CreateFile({'id':\"1nM4xOSa_WPF_9gmFPVMX0LgSXIduTk_X\"})\n",
    "downloaded.GetContentFile('test_medium.csv')\n",
    "\n",
    "#Get train_medium.csv\n",
    "downloaded = drive.CreateFile({'id':\"1W5RFr2-ZKo-g3nYtPZP2k2-ePHkOKsP2\"})\n",
    "downloaded.GetContentFile('train_medium.csv')"
   ]
  },
  {
   "cell_type": "code",
   "execution_count": 3,
   "metadata": {
    "colab": {
     "base_uri": "https://localhost:8080/"
    },
    "executionInfo": {
     "elapsed": 24069,
     "status": "ok",
     "timestamp": 1604669322739,
     "user": {
      "displayName": "Anh Tú Đỗ",
      "photoUrl": "https://lh3.googleusercontent.com/a-/AOh14Ghp14Wne_q6bWGUed10hxmbIVNasEt-giIP8qLB=s64",
      "userId": "06292639486663493436"
     },
     "user_tz": -480
    },
    "id": "2KLcDzSXPqiS",
    "outputId": "7deb750f-b81a-43de-ff4a-092ad1fddd93"
   },
   "outputs": [
    {
     "name": "stdout",
     "output_type": "stream",
     "text": [
      "[nltk_data] Downloading package punkt to /root/nltk_data...\n",
      "[nltk_data]   Unzipping tokenizers/punkt.zip.\n"
     ]
    },
    {
     "data": {
      "text/plain": [
       "True"
      ]
     },
     "execution_count": 3,
     "metadata": {
      "tags": []
     },
     "output_type": "execute_result"
    }
   ],
   "source": [
    "import numpy as np\n",
    "import collections\n",
    "import tensorflow as tf\n",
    "from nltk.tokenize import word_tokenize\n",
    "from tensorflow.keras import Model, layers\n",
    "import csv\n",
    "import re\n",
    "import pylab\n",
    "import nltk\n",
    "nltk.download('punkt')"
   ]
  },
  {
   "cell_type": "code",
   "execution_count": 4,
   "metadata": {
    "executionInfo": {
     "elapsed": 24070,
     "status": "ok",
     "timestamp": 1604669322743,
     "user": {
      "displayName": "Anh Tú Đỗ",
      "photoUrl": "https://lh3.googleusercontent.com/a-/AOh14Ghp14Wne_q6bWGUed10hxmbIVNasEt-giIP8qLB=s64",
      "userId": "06292639486663493436"
     },
     "user_tz": -480
    },
    "id": "i1fDIpHgP0WE"
   },
   "outputs": [],
   "source": [
    "MAX_DOCUMENT_LENGTH = 100\n",
    "HIDDEN_SIZE = 20\n",
    "EMBEDDING_SIZE = 20\n",
    "MAX_LABEL = 15\n",
    "\n",
    "batch_size = 128\n",
    "no_epochs = 250\n",
    "dropouts = 0.5\n",
    "lr = 0.01\n",
    "\n",
    "seed = 10\n",
    "tf.random.set_seed(seed)"
   ]
  },
  {
   "cell_type": "code",
   "execution_count": 5,
   "metadata": {
    "executionInfo": {
     "elapsed": 24865,
     "status": "ok",
     "timestamp": 1604669323541,
     "user": {
      "displayName": "Anh Tú Đỗ",
      "photoUrl": "https://lh3.googleusercontent.com/a-/AOh14Ghp14Wne_q6bWGUed10hxmbIVNasEt-giIP8qLB=s64",
      "userId": "06292639486663493436"
     },
     "user_tz": -480
    },
    "id": "pMUlwWKdP3-O"
   },
   "outputs": [],
   "source": [
    "def clean_str(text):\n",
    "    text = re.sub(r\"[^A-Za-z0-9(),!?\\'\\`\\\"]\", \" \", text)\n",
    "    text = re.sub(r\"\\s{2,}\", \" \", text)\n",
    "    text = text.strip().lower()\n",
    "\n",
    "    return text\n",
    "\n",
    "\n",
    "def build_word_dict(contents):\n",
    "    words = list()\n",
    "    for content in contents:\n",
    "        for word in word_tokenize(clean_str(content)):\n",
    "            words.append(word)\n",
    "\n",
    "    word_counter = collections.Counter(words).most_common()\n",
    "    word_dict = dict()\n",
    "    word_dict[\"<pad>\"] = 0\n",
    "    word_dict[\"<unk>\"] = 1\n",
    "    word_dict[\"<eos>\"] = 2\n",
    "    for word, _ in word_counter:\n",
    "        word_dict[word] = len(word_dict)\n",
    "    return word_dict\n",
    "\n",
    "\n",
    "def preprocess(contents, word_dict, document_max_len):\n",
    "    x = list(map(lambda d: word_tokenize(clean_str(d)), contents))\n",
    "    x = list(map(lambda d: list(map(lambda w: word_dict.get(w, word_dict[\"<unk>\"]), d)), x))\n",
    "    x = list(map(lambda d: d + [word_dict[\"<eos>\"]], x))\n",
    "    x = list(map(lambda d: d[:document_max_len], x))\n",
    "    x = list(map(lambda d: d + (document_max_len - len(d)) * [word_dict[\"<pad>\"]], x))\n",
    "    return x\n",
    "\n",
    "\n",
    "def read_data_words():\n",
    "    x_train, y_train, x_test, y_test = [], [], [], []\n",
    "    cop = re.compile(\"[^a-z^A-Z^0-9^,^.^' ']\")\n",
    "    with open('./train_medium.csv', encoding='utf-8') as filex:\n",
    "        reader = csv.reader(filex)\n",
    "        for row in reader:\n",
    "            data = cop.sub(\"\", row[1])\n",
    "            x_train.append(data)\n",
    "            y_train.append(int(row[0]))\n",
    "\n",
    "    with open('./test_medium.csv', encoding='utf-8') as filex:\n",
    "        reader = csv.reader(filex)\n",
    "        for row in reader:\n",
    "            data = cop.sub(\"\", row[1])\n",
    "            x_test.append(data)\n",
    "            y_test.append(int(row[0]))\n",
    "\n",
    "    word_dict = build_word_dict(x_train+x_test)\n",
    "    x_train = preprocess(x_train, word_dict, MAX_DOCUMENT_LENGTH)\n",
    "    y_train = np.array(y_train)\n",
    "    x_test = preprocess(x_test, word_dict, MAX_DOCUMENT_LENGTH)\n",
    "    y_test = np.array(y_test)\n",
    "\n",
    "    x_train = [x[:MAX_DOCUMENT_LENGTH] for x in x_train]\n",
    "    x_test = [x[:MAX_DOCUMENT_LENGTH] for x in x_test]\n",
    "    x_train = tf.constant(x_train, dtype=tf.int64)\n",
    "    y_train = tf.constant(y_train, dtype=tf.int64)\n",
    "    x_test = tf.constant(x_test, dtype=tf.int64)\n",
    "    y_test = tf.constant(y_test, dtype=tf.int64)\n",
    "\n",
    "    vocab_size = tf.get_static_value(tf.reduce_max(x_train))\n",
    "    vocab_size = max(vocab_size, tf.get_static_value(tf.reduce_max(x_test))) + 1\n",
    "    return x_train, y_train, x_test, y_test, vocab_size"
   ]
  },
  {
   "cell_type": "code",
   "execution_count": 6,
   "metadata": {
    "executionInfo": {
     "elapsed": 33442,
     "status": "ok",
     "timestamp": 1604669332122,
     "user": {
      "displayName": "Anh Tú Đỗ",
      "photoUrl": "https://lh3.googleusercontent.com/a-/AOh14Ghp14Wne_q6bWGUed10hxmbIVNasEt-giIP8qLB=s64",
      "userId": "06292639486663493436"
     },
     "user_tz": -480
    },
    "id": "MXFlFpl1QCd-"
   },
   "outputs": [],
   "source": [
    "x_train, y_train, x_test, y_test, vocab_size = read_data_words()\n",
    "# Use `tf.data` to batch and shuffle the dataset:\n",
    "train_ds = tf.data.Dataset.from_tensor_slices(\n",
    "    (x_train, y_train)).shuffle(10000).batch(batch_size)\n",
    "test_ds = tf.data.Dataset.from_tensor_slices((x_test, y_test)).batch(batch_size)"
   ]
  },
  {
   "cell_type": "code",
   "execution_count": 7,
   "metadata": {
    "executionInfo": {
     "elapsed": 33450,
     "status": "ok",
     "timestamp": 1604669332132,
     "user": {
      "displayName": "Anh Tú Đỗ",
      "photoUrl": "https://lh3.googleusercontent.com/a-/AOh14Ghp14Wne_q6bWGUed10hxmbIVNasEt-giIP8qLB=s64",
      "userId": "06292639486663493436"
     },
     "user_tz": -480
    },
    "id": "J_4iQOYAQRWV"
   },
   "outputs": [],
   "source": [
    "tf.keras.backend.set_floatx('float32')\n",
    "class WordRNN(Model):\n",
    "\n",
    "    def __init__(self, vocab_size, hidden_dim=20):\n",
    "        super(WordRNN, self).__init__()\n",
    "        # Hyperparameters\n",
    "        self.hidden_dim = hidden_dim\n",
    "        self.vocab_size = vocab_size\n",
    "        self.embedding = layers.Embedding(vocab_size, EMBEDDING_SIZE, input_length=MAX_DOCUMENT_LENGTH)\n",
    "        # Weight variables and RNN cell\n",
    "        self.rnn = layers.RNN(\n",
    "            tf.keras.layers.GRUCell(self.hidden_dim), unroll=True)\n",
    "        self.dense = layers.Dense(MAX_LABEL, activation='softmax')\n",
    "\n",
    "    def call(self, x, drop_rate):\n",
    "        # forward logic\n",
    "        embedding = self.embedding(x)\n",
    "        encoding = self.rnn(embedding)\n",
    "\n",
    "        encoding = tf.nn.dropout(encoding, drop_rate)\n",
    "        logits = self.dense(encoding)\n",
    "    \n",
    "        return logits\n",
    "\n",
    "model = WordRNN(vocab_size, HIDDEN_SIZE)"
   ]
  },
  {
   "cell_type": "code",
   "execution_count": 8,
   "metadata": {
    "executionInfo": {
     "elapsed": 33450,
     "status": "ok",
     "timestamp": 1604669332135,
     "user": {
      "displayName": "Anh Tú Đỗ",
      "photoUrl": "https://lh3.googleusercontent.com/a-/AOh14Ghp14Wne_q6bWGUed10hxmbIVNasEt-giIP8qLB=s64",
      "userId": "06292639486663493436"
     },
     "user_tz": -480
    },
    "id": "XYAXD8aVRCaX"
   },
   "outputs": [],
   "source": [
    "# Choose optimizer and loss function for training\n",
    "optimizer = tf.keras.optimizers.Adam(learning_rate=lr)\n",
    "loss_object = tf.keras.losses.SparseCategoricalCrossentropy()\n",
    "\n",
    "# Select metrics to measure the loss and the accuracy of the model. \n",
    "# These metrics accumulate the values over epochs and then print the overall result.\n",
    "train_loss = tf.keras.metrics.Mean(name='train_loss')\n",
    "train_accuracy = tf.keras.metrics.SparseCategoricalAccuracy(name='train_accuracy')\n",
    "\n",
    "test_loss = tf.keras.metrics.Mean(name='test_loss')\n",
    "test_accuracy = tf.keras.metrics.SparseCategoricalAccuracy(name='test_accuracy')"
   ]
  },
  {
   "cell_type": "code",
   "execution_count": 9,
   "metadata": {
    "executionInfo": {
     "elapsed": 33449,
     "status": "ok",
     "timestamp": 1604669332137,
     "user": {
      "displayName": "Anh Tú Đỗ",
      "photoUrl": "https://lh3.googleusercontent.com/a-/AOh14Ghp14Wne_q6bWGUed10hxmbIVNasEt-giIP8qLB=s64",
      "userId": "06292639486663493436"
     },
     "user_tz": -480
    },
    "id": "s--BJb6yRFgn"
   },
   "outputs": [],
   "source": [
    "# Training function\n",
    "def train_step(model, x, label, drop_rate):\n",
    "    with tf.GradientTape() as tape:\n",
    "        out = model(x, drop_rate)\n",
    "        loss = loss_object(label, out)\n",
    "        gradients = tape.gradient(loss, model.trainable_variables)\n",
    "        optimizer.apply_gradients(zip(gradients, model.trainable_variables))\n",
    "        \n",
    "    train_loss(loss)\n",
    "    train_accuracy(labels, out)\n",
    "\n",
    "# Testing function\n",
    "def test_step(model, x, label, drop_rate=0):\n",
    "    out = model(x,drop_rate)\n",
    "    t_loss = loss_object(label, out)\n",
    "    test_loss(t_loss)\n",
    "    test_accuracy(label, out)"
   ]
  },
  {
   "cell_type": "code",
   "execution_count": 10,
   "metadata": {
    "colab": {
     "base_uri": "https://localhost:8080/"
    },
    "executionInfo": {
     "elapsed": 107393,
     "status": "ok",
     "timestamp": 1604671701406,
     "user": {
      "displayName": "Anh Tú Đỗ",
      "photoUrl": "https://lh3.googleusercontent.com/a-/AOh14Ghp14Wne_q6bWGUed10hxmbIVNasEt-giIP8qLB=s64",
      "userId": "06292639486663493436"
     },
     "user_tz": -480
    },
    "id": "ZmF4tYW0RKRv",
    "outputId": "27b1ab8e-4b4b-41d4-ee9f-37aa4f55d354"
   },
   "outputs": [
    {
     "name": "stdout",
     "output_type": "stream",
     "text": [
      "Epoch 1, Loss: 2.6795787811279297, Accuracy: 0.0669642835855484, Test Loss: 2.6548702716827393, Test Accuracy: 0.0714285746216774\n",
      "Epoch 2, Loss: 2.6559407711029053, Accuracy: 0.06517857313156128, Test Loss: 2.6463723182678223, Test Accuracy: 0.0714285746216774\n",
      "Epoch 3, Loss: 2.652437925338745, Accuracy: 0.07089285552501678, Test Loss: 2.645501136779785, Test Accuracy: 0.07285714149475098\n",
      "Epoch 4, Loss: 2.6495258808135986, Accuracy: 0.06803571432828903, Test Loss: 2.642528533935547, Test Accuracy: 0.07428571581840515\n",
      "Epoch 5, Loss: 2.5661020278930664, Accuracy: 0.09357143193483353, Test Loss: 2.221276044845581, Test Accuracy: 0.1842857152223587\n",
      "Epoch 6, Loss: 1.8752120733261108, Accuracy: 0.27892857789993286, Test Loss: 1.5192610025405884, Test Accuracy: 0.4571428596973419\n",
      "Epoch 7, Loss: 1.3509669303894043, Accuracy: 0.45964285731315613, Test Loss: 1.1492382287979126, Test Accuracy: 0.6014285683631897\n",
      "Epoch 8, Loss: 0.9395742416381836, Accuracy: 0.6464285850524902, Test Loss: 0.845271646976471, Test Accuracy: 0.727142870426178\n",
      "Epoch 9, Loss: 0.6881721615791321, Accuracy: 0.7512500286102295, Test Loss: 0.7043666839599609, Test Accuracy: 0.7657142877578735\n",
      "Epoch 10, Loss: 0.5328563451766968, Accuracy: 0.7951785922050476, Test Loss: 0.7282070517539978, Test Accuracy: 0.7771428823471069\n",
      "Epoch 11, Loss: 0.47627097368240356, Accuracy: 0.8117856979370117, Test Loss: 0.6848039627075195, Test Accuracy: 0.772857129573822\n",
      "Epoch 12, Loss: 0.41720494627952576, Accuracy: 0.837321400642395, Test Loss: 0.7260308861732483, Test Accuracy: 0.8142856955528259\n",
      "Epoch 13, Loss: 0.37935248017311096, Accuracy: 0.8616071343421936, Test Loss: 0.7443882822990417, Test Accuracy: 0.8142856955528259\n",
      "Epoch 14, Loss: 0.3246028423309326, Accuracy: 0.883392870426178, Test Loss: 0.749673068523407, Test Accuracy: 0.8257142901420593\n",
      "Epoch 15, Loss: 0.30714723467826843, Accuracy: 0.897678554058075, Test Loss: 0.7288830876350403, Test Accuracy: 0.8299999833106995\n",
      "Epoch 16, Loss: 0.25763097405433655, Accuracy: 0.9176785945892334, Test Loss: 0.8192834258079529, Test Accuracy: 0.8199999928474426\n",
      "Epoch 17, Loss: 0.21507810056209564, Accuracy: 0.9342857003211975, Test Loss: 0.847862720489502, Test Accuracy: 0.8142856955528259\n",
      "Epoch 18, Loss: 0.182013601064682, Accuracy: 0.9430357217788696, Test Loss: 0.8397510647773743, Test Accuracy: 0.8185714483261108\n",
      "Epoch 19, Loss: 0.1702881008386612, Accuracy: 0.9446428418159485, Test Loss: 0.9216544032096863, Test Accuracy: 0.8157142996788025\n",
      "Epoch 20, Loss: 0.15822173655033112, Accuracy: 0.9539285898208618, Test Loss: 0.8674041628837585, Test Accuracy: 0.8128571510314941\n",
      "Epoch 21, Loss: 0.15811945497989655, Accuracy: 0.958214282989502, Test Loss: 0.8876734375953674, Test Accuracy: 0.8485714197158813\n",
      "Epoch 22, Loss: 0.17842184007167816, Accuracy: 0.9510714411735535, Test Loss: 0.9042709469795227, Test Accuracy: 0.8328571319580078\n",
      "Epoch 23, Loss: 0.15957346558570862, Accuracy: 0.9523214101791382, Test Loss: 0.7713640332221985, Test Accuracy: 0.8385714292526245\n",
      "Epoch 24, Loss: 0.12092018127441406, Accuracy: 0.962321400642395, Test Loss: 0.7995896339416504, Test Accuracy: 0.8485714197158813\n",
      "Epoch 25, Loss: 0.12834931910037994, Accuracy: 0.9651785492897034, Test Loss: 0.7660554051399231, Test Accuracy: 0.8485714197158813\n",
      "Epoch 26, Loss: 0.11569523066282272, Accuracy: 0.9671428799629211, Test Loss: 0.8860146999359131, Test Accuracy: 0.8528571724891663\n",
      "Epoch 27, Loss: 0.10785241425037384, Accuracy: 0.9700000286102295, Test Loss: 0.7905954718589783, Test Accuracy: 0.845714271068573\n",
      "Epoch 28, Loss: 0.07618952542543411, Accuracy: 0.9767857193946838, Test Loss: 0.7074525356292725, Test Accuracy: 0.8600000143051147\n",
      "Epoch 29, Loss: 0.08686336129903793, Accuracy: 0.9725000262260437, Test Loss: 0.909329354763031, Test Accuracy: 0.854285717010498\n",
      "Epoch 30, Loss: 0.07090682536363602, Accuracy: 0.9758928418159485, Test Loss: 0.8611175417900085, Test Accuracy: 0.8600000143051147\n",
      "Epoch 31, Loss: 0.06241828575730324, Accuracy: 0.9776785969734192, Test Loss: 0.9238159656524658, Test Accuracy: 0.8614285588264465\n",
      "Epoch 32, Loss: 0.0600394643843174, Accuracy: 0.9798214435577393, Test Loss: 1.000592827796936, Test Accuracy: 0.8628571629524231\n",
      "Epoch 33, Loss: 0.06122690066695213, Accuracy: 0.9794642925262451, Test Loss: 1.0504934787750244, Test Accuracy: 0.8442857265472412\n",
      "Epoch 34, Loss: 0.05839507281780243, Accuracy: 0.9782142639160156, Test Loss: 1.0741201639175415, Test Accuracy: 0.8557142615318298\n",
      "Epoch 35, Loss: 0.06320355832576752, Accuracy: 0.9803571701049805, Test Loss: 1.0911997556686401, Test Accuracy: 0.854285717010498\n",
      "Epoch 36, Loss: 0.07029463350772858, Accuracy: 0.9785714149475098, Test Loss: 1.072621464729309, Test Accuracy: 0.8528571724891663\n",
      "Epoch 37, Loss: 0.09621088206768036, Accuracy: 0.9725000262260437, Test Loss: 1.181459903717041, Test Accuracy: 0.8428571224212646\n",
      "Epoch 38, Loss: 0.22652654349803925, Accuracy: 0.9407142996788025, Test Loss: 1.066535472869873, Test Accuracy: 0.8385714292526245\n",
      "Epoch 39, Loss: 0.1721593141555786, Accuracy: 0.956250011920929, Test Loss: 1.016785979270935, Test Accuracy: 0.8471428751945496\n",
      "Epoch 40, Loss: 0.11381559073925018, Accuracy: 0.9696428775787354, Test Loss: 0.9955241680145264, Test Accuracy: 0.8514285683631897\n",
      "Epoch 41, Loss: 0.08520617336034775, Accuracy: 0.977142870426178, Test Loss: 0.9422940611839294, Test Accuracy: 0.8614285588264465\n",
      "Epoch 42, Loss: 0.07888911664485931, Accuracy: 0.9758928418159485, Test Loss: 1.024429202079773, Test Accuracy: 0.8642857074737549\n",
      "Epoch 43, Loss: 0.10851053893566132, Accuracy: 0.9694643020629883, Test Loss: 0.9492641091346741, Test Accuracy: 0.845714271068573\n",
      "Epoch 44, Loss: 0.09255539625883102, Accuracy: 0.9705356955528259, Test Loss: 0.9684363007545471, Test Accuracy: 0.8471428751945496\n",
      "Epoch 45, Loss: 0.07243719696998596, Accuracy: 0.9767857193946838, Test Loss: 0.9872043132781982, Test Accuracy: 0.8471428751945496\n",
      "Epoch 46, Loss: 0.07563444972038269, Accuracy: 0.9785714149475098, Test Loss: 1.0696134567260742, Test Accuracy: 0.8471428751945496\n",
      "Epoch 47, Loss: 0.0627986267209053, Accuracy: 0.9807142615318298, Test Loss: 1.0090152025222778, Test Accuracy: 0.8657143115997314\n",
      "Epoch 48, Loss: 0.057283397763967514, Accuracy: 0.9803571701049805, Test Loss: 0.9286136031150818, Test Accuracy: 0.8714285492897034\n",
      "Epoch 49, Loss: 0.05659319460391998, Accuracy: 0.9805356860160828, Test Loss: 0.9498063921928406, Test Accuracy: 0.8728571534156799\n",
      "Epoch 50, Loss: 0.05342421680688858, Accuracy: 0.9798214435577393, Test Loss: 1.0065525770187378, Test Accuracy: 0.868571400642395\n",
      "Epoch 51, Loss: 0.059702467173337936, Accuracy: 0.9808928370475769, Test Loss: 1.1702511310577393, Test Accuracy: 0.8528571724891663\n",
      "Epoch 52, Loss: 0.05629878118634224, Accuracy: 0.981249988079071, Test Loss: 1.0804616212844849, Test Accuracy: 0.8585714101791382\n",
      "Epoch 53, Loss: 0.0669076144695282, Accuracy: 0.9789285659790039, Test Loss: 1.1848886013031006, Test Accuracy: 0.8571428656578064\n",
      "Epoch 54, Loss: 0.05958149582147598, Accuracy: 0.9798214435577393, Test Loss: 1.1069530248641968, Test Accuracy: 0.8614285588264465\n",
      "Epoch 55, Loss: 0.060935672372579575, Accuracy: 0.9776785969734192, Test Loss: 1.1147575378417969, Test Accuracy: 0.8585714101791382\n",
      "Epoch 56, Loss: 0.04664544016122818, Accuracy: 0.9839285612106323, Test Loss: 1.0898457765579224, Test Accuracy: 0.8585714101791382\n",
      "Epoch 57, Loss: 0.0717221349477768, Accuracy: 0.9803571701049805, Test Loss: 1.0704741477966309, Test Accuracy: 0.8514285683631897\n",
      "Epoch 58, Loss: 0.0935482308268547, Accuracy: 0.970714271068573, Test Loss: 1.260630488395691, Test Accuracy: 0.8414285778999329\n",
      "Epoch 59, Loss: 0.06595006585121155, Accuracy: 0.9807142615318298, Test Loss: 1.3089251518249512, Test Accuracy: 0.8357142806053162\n",
      "Epoch 60, Loss: 0.08551523089408875, Accuracy: 0.9808928370475769, Test Loss: 1.1487993001937866, Test Accuracy: 0.8500000238418579\n",
      "Epoch 61, Loss: 0.08948422968387604, Accuracy: 0.9744642972946167, Test Loss: 1.081390619277954, Test Accuracy: 0.8471428751945496\n",
      "Epoch 62, Loss: 0.080713652074337, Accuracy: 0.9796428680419922, Test Loss: 1.1045801639556885, Test Accuracy: 0.8557142615318298\n",
      "Epoch 63, Loss: 0.06627874076366425, Accuracy: 0.9803571701049805, Test Loss: 1.0859850645065308, Test Accuracy: 0.8442857265472412\n",
      "Epoch 64, Loss: 0.058834806084632874, Accuracy: 0.9833928346633911, Test Loss: 1.2083301544189453, Test Accuracy: 0.8528571724891663\n",
      "Epoch 65, Loss: 0.06312070786952972, Accuracy: 0.981071412563324, Test Loss: 1.0930389165878296, Test Accuracy: 0.8385714292526245\n",
      "Epoch 66, Loss: 0.055172182619571686, Accuracy: 0.9830357432365417, Test Loss: 1.1573745012283325, Test Accuracy: 0.854285717010498\n",
      "Epoch 67, Loss: 0.052709199488162994, Accuracy: 0.9816071391105652, Test Loss: 1.1894217729568481, Test Accuracy: 0.854285717010498\n",
      "Epoch 68, Loss: 0.05227690562605858, Accuracy: 0.9839285612106323, Test Loss: 1.3068801164627075, Test Accuracy: 0.8628571629524231\n",
      "Epoch 69, Loss: 0.055338963866233826, Accuracy: 0.9800000190734863, Test Loss: 1.2003456354141235, Test Accuracy: 0.8428571224212646\n",
      "Epoch 70, Loss: 0.05103084817528725, Accuracy: 0.9842857122421265, Test Loss: 1.2669962644577026, Test Accuracy: 0.854285717010498\n",
      "Epoch 71, Loss: 0.05145474523305893, Accuracy: 0.9833928346633911, Test Loss: 1.2754114866256714, Test Accuracy: 0.8514285683631897\n",
      "Epoch 72, Loss: 0.04791536554694176, Accuracy: 0.9864285588264465, Test Loss: 1.3711862564086914, Test Accuracy: 0.8500000238418579\n",
      "Epoch 73, Loss: 0.048662781715393066, Accuracy: 0.9839285612106323, Test Loss: 1.3203701972961426, Test Accuracy: 0.8557142615318298\n",
      "Epoch 74, Loss: 0.05073568597435951, Accuracy: 0.9808928370475769, Test Loss: 1.3840960264205933, Test Accuracy: 0.8557142615318298\n",
      "Epoch 75, Loss: 0.04751342535018921, Accuracy: 0.9846428632736206, Test Loss: 1.4251513481140137, Test Accuracy: 0.8557142615318298\n",
      "Epoch 76, Loss: 0.04332493618130684, Accuracy: 0.9867857098579407, Test Loss: 1.4468578100204468, Test Accuracy: 0.8471428751945496\n",
      "Epoch 77, Loss: 0.04571045935153961, Accuracy: 0.9837499856948853, Test Loss: 1.474951148033142, Test Accuracy: 0.8442857265472412\n",
      "Epoch 78, Loss: 0.039040230214595795, Accuracy: 0.9873214364051819, Test Loss: 1.5553301572799683, Test Accuracy: 0.8471428751945496\n",
      "Epoch 79, Loss: 0.03880380094051361, Accuracy: 0.9887499809265137, Test Loss: 1.4742594957351685, Test Accuracy: 0.8500000238418579\n",
      "Epoch 80, Loss: 0.04703562334179878, Accuracy: 0.9837499856948853, Test Loss: 1.386348843574524, Test Accuracy: 0.8428571224212646\n",
      "Epoch 81, Loss: 0.0662960335612297, Accuracy: 0.9826785922050476, Test Loss: 1.5185185670852661, Test Accuracy: 0.8442857265472412\n",
      "Epoch 82, Loss: 0.11491446197032928, Accuracy: 0.9703571200370789, Test Loss: 1.37590754032135, Test Accuracy: 0.8414285778999329\n",
      "Epoch 83, Loss: 0.11990642547607422, Accuracy: 0.9674999713897705, Test Loss: 1.439159870147705, Test Accuracy: 0.8328571319580078\n",
      "Epoch 84, Loss: 0.1218532845377922, Accuracy: 0.9642857313156128, Test Loss: 1.075949788093567, Test Accuracy: 0.845714271068573\n",
      "Epoch 85, Loss: 0.11133375763893127, Accuracy: 0.9685714244842529, Test Loss: 1.105161190032959, Test Accuracy: 0.8485714197158813\n",
      "Epoch 86, Loss: 0.08796723186969757, Accuracy: 0.9753571152687073, Test Loss: 1.0647811889648438, Test Accuracy: 0.854285717010498\n",
      "Epoch 87, Loss: 0.08682078868150711, Accuracy: 0.9766071438789368, Test Loss: 0.9249498248100281, Test Accuracy: 0.8642857074737549\n",
      "Epoch 88, Loss: 0.060401204973459244, Accuracy: 0.979285717010498, Test Loss: 0.9403684139251709, Test Accuracy: 0.8657143115997314\n",
      "Epoch 89, Loss: 0.05334261804819107, Accuracy: 0.9826785922050476, Test Loss: 1.0391215085983276, Test Accuracy: 0.8628571629524231\n",
      "Epoch 90, Loss: 0.05047065392136574, Accuracy: 0.9833928346633911, Test Loss: 1.0838617086410522, Test Accuracy: 0.8728571534156799\n",
      "Epoch 91, Loss: 0.048252496868371964, Accuracy: 0.9860714077949524, Test Loss: 1.0593185424804688, Test Accuracy: 0.854285717010498\n",
      "Epoch 92, Loss: 0.055071309208869934, Accuracy: 0.981249988079071, Test Loss: 1.101582646369934, Test Accuracy: 0.8514285683631897\n",
      "Epoch 93, Loss: 0.05455559864640236, Accuracy: 0.9851785898208618, Test Loss: 1.003762125968933, Test Accuracy: 0.8642857074737549\n",
      "Epoch 94, Loss: 0.06746432185173035, Accuracy: 0.9798214435577393, Test Loss: 0.9567305445671082, Test Accuracy: 0.868571400642395\n",
      "Epoch 95, Loss: 0.06552260369062424, Accuracy: 0.9798214435577393, Test Loss: 1.1889711618423462, Test Accuracy: 0.8528571724891663\n",
      "Epoch 96, Loss: 0.055104635655879974, Accuracy: 0.981249988079071, Test Loss: 1.1551531553268433, Test Accuracy: 0.845714271068573\n",
      "Epoch 97, Loss: 0.060089658945798874, Accuracy: 0.9801785945892334, Test Loss: 1.2314759492874146, Test Accuracy: 0.8471428751945496\n",
      "Epoch 98, Loss: 0.06807604432106018, Accuracy: 0.9801785945892334, Test Loss: 1.0786799192428589, Test Accuracy: 0.8514285683631897\n",
      "Epoch 99, Loss: 0.06792409718036652, Accuracy: 0.9803571701049805, Test Loss: 1.0626434087753296, Test Accuracy: 0.8528571724891663\n",
      "Epoch 100, Loss: 0.10653789341449738, Accuracy: 0.9700000286102295, Test Loss: 1.0985275506973267, Test Accuracy: 0.8385714292526245\n",
      "Epoch 101, Loss: 0.05965709313750267, Accuracy: 0.9828571677207947, Test Loss: 1.0702816247940063, Test Accuracy: 0.8500000238418579\n",
      "Epoch 102, Loss: 0.04431340843439102, Accuracy: 0.9839285612106323, Test Loss: 1.3725647926330566, Test Accuracy: 0.8357142806053162\n",
      "Epoch 103, Loss: 0.0727730318903923, Accuracy: 0.9766071438789368, Test Loss: 1.11857271194458, Test Accuracy: 0.8442857265472412\n",
      "Epoch 104, Loss: 0.05301406607031822, Accuracy: 0.9817857146263123, Test Loss: 1.1059869527816772, Test Accuracy: 0.8642857074737549\n",
      "Epoch 105, Loss: 0.04071564972400665, Accuracy: 0.9841071367263794, Test Loss: 1.222370982170105, Test Accuracy: 0.868571400642395\n",
      "Epoch 106, Loss: 0.03875187411904335, Accuracy: 0.9880357384681702, Test Loss: 1.132459282875061, Test Accuracy: 0.8671428561210632\n",
      "Epoch 107, Loss: 0.05151671543717384, Accuracy: 0.9814285635948181, Test Loss: 1.3442600965499878, Test Accuracy: 0.8442857265472412\n",
      "Epoch 108, Loss: 0.07394973188638687, Accuracy: 0.9782142639160156, Test Loss: 1.317387342453003, Test Accuracy: 0.8471428751945496\n",
      "Epoch 109, Loss: 0.06265579164028168, Accuracy: 0.9807142615318298, Test Loss: 1.2443106174468994, Test Accuracy: 0.8557142615318298\n",
      "Epoch 110, Loss: 0.0526256337761879, Accuracy: 0.9837499856948853, Test Loss: 1.2234309911727905, Test Accuracy: 0.8585714101791382\n",
      "Epoch 111, Loss: 0.049728259444236755, Accuracy: 0.9848214387893677, Test Loss: 1.1844359636306763, Test Accuracy: 0.8628571629524231\n",
      "Epoch 112, Loss: 0.05390667915344238, Accuracy: 0.9835714101791382, Test Loss: 1.2889158725738525, Test Accuracy: 0.8528571724891663\n",
      "Epoch 113, Loss: 0.04908674955368042, Accuracy: 0.9826785922050476, Test Loss: 1.1808702945709229, Test Accuracy: 0.8557142615318298\n",
      "Epoch 114, Loss: 0.041924841701984406, Accuracy: 0.9835714101791382, Test Loss: 1.17429780960083, Test Accuracy: 0.8571428656578064\n",
      "Epoch 115, Loss: 0.04352754354476929, Accuracy: 0.985535740852356, Test Loss: 1.2122503519058228, Test Accuracy: 0.8514285683631897\n",
      "Epoch 116, Loss: 0.053102556616067886, Accuracy: 0.9839285612106323, Test Loss: 1.3529623746871948, Test Accuracy: 0.8514285683631897\n",
      "Epoch 117, Loss: 0.054459575563669205, Accuracy: 0.9825000166893005, Test Loss: 1.2268850803375244, Test Accuracy: 0.8471428751945496\n",
      "Epoch 118, Loss: 0.05006757751107216, Accuracy: 0.9853571653366089, Test Loss: 1.3645963668823242, Test Accuracy: 0.8471428751945496\n",
      "Epoch 119, Loss: 0.050706829875707626, Accuracy: 0.985535740852356, Test Loss: 1.1465619802474976, Test Accuracy: 0.8571428656578064\n",
      "Epoch 120, Loss: 0.043383363634347916, Accuracy: 0.9853571653366089, Test Loss: 1.2341936826705933, Test Accuracy: 0.8600000143051147\n",
      "Epoch 121, Loss: 0.03919130191206932, Accuracy: 0.9867857098579407, Test Loss: 1.2122303247451782, Test Accuracy: 0.8628571629524231\n",
      "Epoch 122, Loss: 0.03917502611875534, Accuracy: 0.9858928322792053, Test Loss: 1.1770814657211304, Test Accuracy: 0.8642857074737549\n",
      "Epoch 123, Loss: 0.03326417878270149, Accuracy: 0.9860714077949524, Test Loss: 1.2283324003219604, Test Accuracy: 0.8614285588264465\n",
      "Epoch 124, Loss: 0.02500656247138977, Accuracy: 0.9917857050895691, Test Loss: 1.2671416997909546, Test Accuracy: 0.8614285588264465\n",
      "Epoch 125, Loss: 0.04631965234875679, Accuracy: 0.9871428608894348, Test Loss: 1.9369735717773438, Test Accuracy: 0.7885714173316956\n",
      "Epoch 126, Loss: 0.3525012135505676, Accuracy: 0.9312499761581421, Test Loss: 1.1526037454605103, Test Accuracy: 0.8514285683631897\n",
      "Epoch 127, Loss: 0.10468368232250214, Accuracy: 0.9671428799629211, Test Loss: 1.0226229429244995, Test Accuracy: 0.8585714101791382\n",
      "Epoch 128, Loss: 0.07472248375415802, Accuracy: 0.9769642949104309, Test Loss: 1.0516973733901978, Test Accuracy: 0.8585714101791382\n",
      "Epoch 129, Loss: 0.056871846318244934, Accuracy: 0.9821428656578064, Test Loss: 1.0170329809188843, Test Accuracy: 0.8614285588264465\n",
      "Epoch 130, Loss: 0.04081942141056061, Accuracy: 0.985535740852356, Test Loss: 1.0613501071929932, Test Accuracy: 0.8600000143051147\n",
      "Epoch 131, Loss: 0.04469604417681694, Accuracy: 0.9826785922050476, Test Loss: 1.1194686889648438, Test Accuracy: 0.8557142615318298\n",
      "Epoch 132, Loss: 0.054222751408815384, Accuracy: 0.9825000166893005, Test Loss: 0.9869796633720398, Test Accuracy: 0.8700000047683716\n",
      "Epoch 133, Loss: 0.04483677074313164, Accuracy: 0.9846428632736206, Test Loss: 0.9472119212150574, Test Accuracy: 0.8628571629524231\n",
      "Epoch 134, Loss: 0.0452604815363884, Accuracy: 0.9842857122421265, Test Loss: 0.9348219037055969, Test Accuracy: 0.8671428561210632\n",
      "Epoch 135, Loss: 0.02993464656174183, Accuracy: 0.9910714030265808, Test Loss: 0.9791184067726135, Test Accuracy: 0.8642857074737549\n",
      "Epoch 136, Loss: 0.03282015770673752, Accuracy: 0.9864285588264465, Test Loss: 1.0205652713775635, Test Accuracy: 0.8628571629524231\n",
      "Epoch 137, Loss: 0.031045319512486458, Accuracy: 0.9862499833106995, Test Loss: 1.039261817932129, Test Accuracy: 0.8642857074737549\n",
      "Epoch 138, Loss: 0.030864400789141655, Accuracy: 0.9873214364051819, Test Loss: 1.0364655256271362, Test Accuracy: 0.8628571629524231\n",
      "Epoch 139, Loss: 0.02792379818856716, Accuracy: 0.9898214340209961, Test Loss: 1.0752781629562378, Test Accuracy: 0.8671428561210632\n",
      "Epoch 140, Loss: 0.030034147202968597, Accuracy: 0.9871428608894348, Test Loss: 1.072859287261963, Test Accuracy: 0.868571400642395\n",
      "Epoch 141, Loss: 0.0268938560038805, Accuracy: 0.9882143139839172, Test Loss: 1.0870648622512817, Test Accuracy: 0.8700000047683716\n",
      "Epoch 142, Loss: 0.024883389472961426, Accuracy: 0.9910714030265808, Test Loss: 1.0891212224960327, Test Accuracy: 0.8700000047683716\n",
      "Epoch 143, Loss: 0.027523629367351532, Accuracy: 0.9889285564422607, Test Loss: 1.0948693752288818, Test Accuracy: 0.8671428561210632\n",
      "Epoch 144, Loss: 0.023302314803004265, Accuracy: 0.9901785850524902, Test Loss: 1.1279131174087524, Test Accuracy: 0.8742856979370117\n",
      "Epoch 145, Loss: 0.026132283732295036, Accuracy: 0.9892857074737549, Test Loss: 1.1470907926559448, Test Accuracy: 0.8742856979370117\n",
      "Epoch 146, Loss: 0.029628969728946686, Accuracy: 0.987678587436676, Test Loss: 1.1168947219848633, Test Accuracy: 0.8757143020629883\n",
      "Epoch 147, Loss: 0.02959051914513111, Accuracy: 0.987678587436676, Test Loss: 1.1167259216308594, Test Accuracy: 0.8771428465843201\n",
      "Epoch 148, Loss: 0.026351768523454666, Accuracy: 0.9901785850524902, Test Loss: 1.1364003419876099, Test Accuracy: 0.8742856979370117\n",
      "Epoch 149, Loss: 0.05188195779919624, Accuracy: 0.9819642901420593, Test Loss: 1.067134976387024, Test Accuracy: 0.8671428561210632\n",
      "Epoch 150, Loss: 0.06267034262418747, Accuracy: 0.9789285659790039, Test Loss: 0.9979659914970398, Test Accuracy: 0.868571400642395\n",
      "Epoch 151, Loss: 0.036674074828624725, Accuracy: 0.9866071343421936, Test Loss: 0.9865795969963074, Test Accuracy: 0.8728571534156799\n",
      "Epoch 152, Loss: 0.032241031527519226, Accuracy: 0.9862499833106995, Test Loss: 1.0678232908248901, Test Accuracy: 0.8742856979370117\n",
      "Epoch 153, Loss: 0.025982476770877838, Accuracy: 0.989642858505249, Test Loss: 1.02299964427948, Test Accuracy: 0.8799999952316284\n",
      "Epoch 154, Loss: 0.0260271318256855, Accuracy: 0.9891071319580078, Test Loss: 1.0412325859069824, Test Accuracy: 0.8742856979370117\n",
      "Epoch 155, Loss: 0.021803712472319603, Accuracy: 0.9910714030265808, Test Loss: 1.0568087100982666, Test Accuracy: 0.8785714507102966\n",
      "Epoch 156, Loss: 0.028150029480457306, Accuracy: 0.9891071319580078, Test Loss: 1.0902228355407715, Test Accuracy: 0.8785714507102966\n",
      "Epoch 157, Loss: 0.024692337960004807, Accuracy: 0.9919642806053162, Test Loss: 1.133621335029602, Test Accuracy: 0.8771428465843201\n",
      "Epoch 158, Loss: 0.02479296363890171, Accuracy: 0.9905357360839844, Test Loss: 1.1355291604995728, Test Accuracy: 0.8785714507102966\n",
      "Epoch 159, Loss: 0.02718072570860386, Accuracy: 0.9892857074737549, Test Loss: 1.1365984678268433, Test Accuracy: 0.8799999952316284\n",
      "Epoch 160, Loss: 0.025676345452666283, Accuracy: 0.9907143115997314, Test Loss: 1.162192702293396, Test Accuracy: 0.8757143020629883\n",
      "Epoch 161, Loss: 0.029568441212177277, Accuracy: 0.987500011920929, Test Loss: 1.1985758543014526, Test Accuracy: 0.8771428465843201\n",
      "Epoch 162, Loss: 0.03540997579693794, Accuracy: 0.9878571629524231, Test Loss: 1.2171587944030762, Test Accuracy: 0.8614285588264465\n",
      "Epoch 163, Loss: 0.035361651331186295, Accuracy: 0.9869642853736877, Test Loss: 1.2240204811096191, Test Accuracy: 0.8528571724891663\n",
      "Epoch 164, Loss: 0.03288547694683075, Accuracy: 0.9898214340209961, Test Loss: 1.2076787948608398, Test Accuracy: 0.8671428561210632\n",
      "Epoch 165, Loss: 0.034233272075653076, Accuracy: 0.989464282989502, Test Loss: 1.0928748846054077, Test Accuracy: 0.8785714507102966\n",
      "Epoch 166, Loss: 0.030460083857178688, Accuracy: 0.9889285564422607, Test Loss: 1.141706109046936, Test Accuracy: 0.8799999952316284\n",
      "Epoch 167, Loss: 0.026005195453763008, Accuracy: 0.989642858505249, Test Loss: 1.2111153602600098, Test Accuracy: 0.868571400642395\n",
      "Epoch 168, Loss: 0.03067745454609394, Accuracy: 0.9910714030265808, Test Loss: 1.2632254362106323, Test Accuracy: 0.8628571629524231\n",
      "Epoch 169, Loss: 0.03138326108455658, Accuracy: 0.989464282989502, Test Loss: 1.3100286722183228, Test Accuracy: 0.868571400642395\n",
      "Epoch 170, Loss: 0.029655374586582184, Accuracy: 0.9885714054107666, Test Loss: 1.3530640602111816, Test Accuracy: 0.8671428561210632\n",
      "Epoch 171, Loss: 0.0315786749124527, Accuracy: 0.9889285564422607, Test Loss: 1.3553005456924438, Test Accuracy: 0.8657143115997314\n",
      "Epoch 172, Loss: 0.03185722604393959, Accuracy: 0.9901785850524902, Test Loss: 1.2531300783157349, Test Accuracy: 0.8728571534156799\n",
      "Epoch 173, Loss: 0.036194249987602234, Accuracy: 0.989464282989502, Test Loss: 1.3417720794677734, Test Accuracy: 0.868571400642395\n",
      "Epoch 174, Loss: 0.047039881348609924, Accuracy: 0.9869642853736877, Test Loss: 1.327022910118103, Test Accuracy: 0.8742856979370117\n",
      "Epoch 175, Loss: 0.04261389747262001, Accuracy: 0.9889285564422607, Test Loss: 1.3184094429016113, Test Accuracy: 0.8657143115997314\n",
      "Epoch 176, Loss: 0.03227531537413597, Accuracy: 0.9878571629524231, Test Loss: 1.2977824211120605, Test Accuracy: 0.8671428561210632\n",
      "Epoch 177, Loss: 0.029633300378918648, Accuracy: 0.9885714054107666, Test Loss: 1.3050711154937744, Test Accuracy: 0.8671428561210632\n",
      "Epoch 178, Loss: 0.021881170570850372, Accuracy: 0.9900000095367432, Test Loss: 1.3067564964294434, Test Accuracy: 0.868571400642395\n",
      "Epoch 179, Loss: 0.029389766976237297, Accuracy: 0.9900000095367432, Test Loss: 1.4347048997879028, Test Accuracy: 0.8471428751945496\n",
      "Epoch 180, Loss: 0.04207482933998108, Accuracy: 0.9848214387893677, Test Loss: 1.3557900190353394, Test Accuracy: 0.8514285683631897\n",
      "Epoch 181, Loss: 0.03324932977557182, Accuracy: 0.9869642853736877, Test Loss: 1.284942388534546, Test Accuracy: 0.8471428751945496\n",
      "Epoch 182, Loss: 0.04897119104862213, Accuracy: 0.9860714077949524, Test Loss: 1.418785572052002, Test Accuracy: 0.8442857265472412\n",
      "Epoch 183, Loss: 0.05218777805566788, Accuracy: 0.9848214387893677, Test Loss: 1.126041293144226, Test Accuracy: 0.868571400642395\n",
      "Epoch 184, Loss: 0.05551682785153389, Accuracy: 0.9844642877578735, Test Loss: 1.1549397706985474, Test Accuracy: 0.8657143115997314\n",
      "Epoch 185, Loss: 0.03579212725162506, Accuracy: 0.9880357384681702, Test Loss: 1.0397521257400513, Test Accuracy: 0.8785714507102966\n",
      "Epoch 186, Loss: 0.034598734229803085, Accuracy: 0.989464282989502, Test Loss: 1.112483024597168, Test Accuracy: 0.8757143020629883\n",
      "Epoch 187, Loss: 0.046729959547519684, Accuracy: 0.9844642877578735, Test Loss: 1.2630807161331177, Test Accuracy: 0.8642857074737549\n",
      "Epoch 188, Loss: 0.033205948770046234, Accuracy: 0.9880357384681702, Test Loss: 1.1865968704223633, Test Accuracy: 0.8742856979370117\n",
      "Epoch 189, Loss: 0.027090363204479218, Accuracy: 0.991607129573822, Test Loss: 1.203210473060608, Test Accuracy: 0.8742856979370117\n",
      "Epoch 190, Loss: 0.03730621188879013, Accuracy: 0.9853571653366089, Test Loss: 1.0269736051559448, Test Accuracy: 0.8785714507102966\n",
      "Epoch 191, Loss: 0.035442009568214417, Accuracy: 0.9862499833106995, Test Loss: 1.233790636062622, Test Accuracy: 0.868571400642395\n",
      "Epoch 192, Loss: 0.05030237138271332, Accuracy: 0.9857142567634583, Test Loss: 1.2833328247070312, Test Accuracy: 0.8642857074737549\n",
      "Epoch 193, Loss: 0.04138050228357315, Accuracy: 0.9878571629524231, Test Loss: 1.3019630908966064, Test Accuracy: 0.8700000047683716\n",
      "Epoch 194, Loss: 0.04083554819226265, Accuracy: 0.987678587436676, Test Loss: 1.3061774969100952, Test Accuracy: 0.8571428656578064\n",
      "Epoch 195, Loss: 0.0345117412507534, Accuracy: 0.9878571629524231, Test Loss: 1.2000962495803833, Test Accuracy: 0.8642857074737549\n",
      "Epoch 196, Loss: 0.027713626623153687, Accuracy: 0.987678587436676, Test Loss: 1.1545475721359253, Test Accuracy: 0.8714285492897034\n",
      "Epoch 197, Loss: 0.02218637987971306, Accuracy: 0.991428554058075, Test Loss: 1.1140341758728027, Test Accuracy: 0.868571400642395\n",
      "Epoch 198, Loss: 0.02888464368879795, Accuracy: 0.9878571629524231, Test Loss: 1.1082429885864258, Test Accuracy: 0.8657143115997314\n",
      "Epoch 199, Loss: 0.03203423321247101, Accuracy: 0.989642858505249, Test Loss: 1.142228126525879, Test Accuracy: 0.8728571534156799\n",
      "Epoch 200, Loss: 0.026249665766954422, Accuracy: 0.9900000095367432, Test Loss: 1.1718391180038452, Test Accuracy: 0.8757143020629883\n",
      "Epoch 201, Loss: 0.025252778083086014, Accuracy: 0.9917857050895691, Test Loss: 1.1795697212219238, Test Accuracy: 0.8742856979370117\n",
      "Epoch 202, Loss: 0.025685643777251244, Accuracy: 0.9905357360839844, Test Loss: 1.2448943853378296, Test Accuracy: 0.8714285492897034\n",
      "Epoch 203, Loss: 0.030914610251784325, Accuracy: 0.9885714054107666, Test Loss: 1.2419394254684448, Test Accuracy: 0.8742856979370117\n",
      "Epoch 204, Loss: 0.03269520774483681, Accuracy: 0.9905357360839844, Test Loss: 1.2306820154190063, Test Accuracy: 0.8742856979370117\n",
      "Epoch 205, Loss: 0.03016333468258381, Accuracy: 0.9903571605682373, Test Loss: 1.1917452812194824, Test Accuracy: 0.8799999952316284\n",
      "Epoch 206, Loss: 0.026949679479002953, Accuracy: 0.9900000095367432, Test Loss: 1.132224678993225, Test Accuracy: 0.881428599357605\n",
      "Epoch 207, Loss: 0.025932110846042633, Accuracy: 0.9905357360839844, Test Loss: 1.2066572904586792, Test Accuracy: 0.8785714507102966\n",
      "Epoch 208, Loss: 0.02848467044532299, Accuracy: 0.9903571605682373, Test Loss: 1.2892497777938843, Test Accuracy: 0.8657143115997314\n",
      "Epoch 209, Loss: 0.030853575095534325, Accuracy: 0.9873214364051819, Test Loss: 1.2093043327331543, Test Accuracy: 0.8742856979370117\n",
      "Epoch 210, Loss: 0.020976077765226364, Accuracy: 0.9921428561210632, Test Loss: 1.2266037464141846, Test Accuracy: 0.8628571629524231\n",
      "Epoch 211, Loss: 0.04651883617043495, Accuracy: 0.989642858505249, Test Loss: 1.420647144317627, Test Accuracy: 0.8471428751945496\n",
      "Epoch 212, Loss: 0.09079113602638245, Accuracy: 0.9798214435577393, Test Loss: 1.710432529449463, Test Accuracy: 0.8214285969734192\n",
      "Epoch 213, Loss: 0.08796484768390656, Accuracy: 0.9766071438789368, Test Loss: 1.3949860334396362, Test Accuracy: 0.8514285683631897\n",
      "Epoch 214, Loss: 0.09873488545417786, Accuracy: 0.9789285659790039, Test Loss: 1.5060545206069946, Test Accuracy: 0.8342857360839844\n",
      "Epoch 215, Loss: 0.06156117096543312, Accuracy: 0.9819642901420593, Test Loss: 1.1755646467208862, Test Accuracy: 0.8571428656578064\n",
      "Epoch 216, Loss: 0.13501976430416107, Accuracy: 0.96875, Test Loss: 1.4679988622665405, Test Accuracy: 0.8428571224212646\n",
      "Epoch 217, Loss: 0.3840958774089813, Accuracy: 0.929107129573822, Test Loss: 1.2782338857650757, Test Accuracy: 0.8128571510314941\n",
      "Epoch 218, Loss: 0.3468954563140869, Accuracy: 0.9253571629524231, Test Loss: 1.4564076662063599, Test Accuracy: 0.8100000023841858\n",
      "Epoch 219, Loss: 1.6374397277832031, Accuracy: 0.7073214054107666, Test Loss: 1.781413197517395, Test Accuracy: 0.6885714530944824\n",
      "Epoch 220, Loss: 1.4989533424377441, Accuracy: 0.6658928394317627, Test Loss: 1.4176616668701172, Test Accuracy: 0.7300000190734863\n",
      "Epoch 221, Loss: 1.03062105178833, Accuracy: 0.7398214340209961, Test Loss: 1.2449861764907837, Test Accuracy: 0.7285714149475098\n",
      "Epoch 222, Loss: 0.8214004635810852, Accuracy: 0.768928587436676, Test Loss: 1.202210783958435, Test Accuracy: 0.7442857027053833\n",
      "Epoch 223, Loss: 0.6726612448692322, Accuracy: 0.801964282989502, Test Loss: 1.1480493545532227, Test Accuracy: 0.741428554058075\n",
      "Epoch 224, Loss: 0.6294618844985962, Accuracy: 0.8125, Test Loss: 1.1608484983444214, Test Accuracy: 0.7400000095367432\n",
      "Epoch 225, Loss: 0.539506196975708, Accuracy: 0.835357129573822, Test Loss: 1.1361454725265503, Test Accuracy: 0.758571445941925\n",
      "Epoch 226, Loss: 0.4725269377231598, Accuracy: 0.8516071438789368, Test Loss: 1.1199856996536255, Test Accuracy: 0.7599999904632568\n",
      "Epoch 227, Loss: 0.4382516145706177, Accuracy: 0.8610714077949524, Test Loss: 1.0514265298843384, Test Accuracy: 0.7714285850524902\n",
      "Epoch 228, Loss: 0.3963322341442108, Accuracy: 0.8733928799629211, Test Loss: 1.0769668817520142, Test Accuracy: 0.7671428322792053\n",
      "Epoch 229, Loss: 0.37982508540153503, Accuracy: 0.878928542137146, Test Loss: 1.0901464223861694, Test Accuracy: 0.7657142877578735\n",
      "Epoch 230, Loss: 0.3369225263595581, Accuracy: 0.8916071653366089, Test Loss: 1.119259238243103, Test Accuracy: 0.7485714554786682\n",
      "Epoch 231, Loss: 0.32344019412994385, Accuracy: 0.8949999809265137, Test Loss: 1.1242696046829224, Test Accuracy: 0.758571445941925\n",
      "Epoch 232, Loss: 0.32153189182281494, Accuracy: 0.895714282989502, Test Loss: 1.094200611114502, Test Accuracy: 0.7714285850524902\n",
      "Epoch 233, Loss: 0.3050025999546051, Accuracy: 0.9021428823471069, Test Loss: 1.124018907546997, Test Accuracy: 0.7628571391105652\n",
      "Epoch 234, Loss: 0.28844961524009705, Accuracy: 0.9039285778999329, Test Loss: 1.1540746688842773, Test Accuracy: 0.7642857432365417\n",
      "Epoch 235, Loss: 0.2843785881996155, Accuracy: 0.9064285755157471, Test Loss: 1.16905677318573, Test Accuracy: 0.7571428418159485\n",
      "Epoch 236, Loss: 0.2873348891735077, Accuracy: 0.9069643020629883, Test Loss: 1.212194800376892, Test Accuracy: 0.7571428418159485\n",
      "Epoch 237, Loss: 0.2724100351333618, Accuracy: 0.9114285707473755, Test Loss: 1.2295799255371094, Test Accuracy: 0.75\n",
      "Epoch 238, Loss: 0.2564355134963989, Accuracy: 0.9133928418159485, Test Loss: 1.2398293018341064, Test Accuracy: 0.7557142972946167\n",
      "Epoch 239, Loss: 0.23982983827590942, Accuracy: 0.9198214411735535, Test Loss: 1.2445036172866821, Test Accuracy: 0.7457143068313599\n",
      "Epoch 240, Loss: 0.24888506531715393, Accuracy: 0.9205357432365417, Test Loss: 1.253670573234558, Test Accuracy: 0.7442857027053833\n",
      "Epoch 241, Loss: 0.2273479849100113, Accuracy: 0.9226785898208618, Test Loss: 1.2650092840194702, Test Accuracy: 0.7442857027053833\n",
      "Epoch 242, Loss: 0.23583731055259705, Accuracy: 0.9196428656578064, Test Loss: 1.2937535047531128, Test Accuracy: 0.741428554058075\n",
      "Epoch 243, Loss: 0.214700847864151, Accuracy: 0.9300000071525574, Test Loss: 1.2709836959838867, Test Accuracy: 0.7528571486473083\n",
      "Epoch 244, Loss: 0.22615081071853638, Accuracy: 0.9258928298950195, Test Loss: 1.3394664525985718, Test Accuracy: 0.7514285445213318\n",
      "Epoch 245, Loss: 0.22913764417171478, Accuracy: 0.9221428632736206, Test Loss: 1.2786579132080078, Test Accuracy: 0.741428554058075\n",
      "Epoch 246, Loss: 0.28553637862205505, Accuracy: 0.9144642949104309, Test Loss: 1.3243688344955444, Test Accuracy: 0.7557142972946167\n",
      "Epoch 247, Loss: 0.2742840647697449, Accuracy: 0.9180356860160828, Test Loss: 1.2503992319107056, Test Accuracy: 0.7614285945892334\n",
      "Epoch 248, Loss: 0.2452099770307541, Accuracy: 0.923035740852356, Test Loss: 1.3140919208526611, Test Accuracy: 0.7442857027053833\n",
      "Epoch 249, Loss: 0.25755050778388977, Accuracy: 0.9248214364051819, Test Loss: 1.290116548538208, Test Accuracy: 0.7471428513526917\n",
      "Epoch 250, Loss: 0.7432740926742554, Accuracy: 0.8174999952316284, Test Loss: 1.6569780111312866, Test Accuracy: 0.6971428394317627\n"
     ]
    }
   ],
   "source": [
    "test_acc = []\n",
    "train_entropy_loss = []\n",
    "for epoch in range(no_epochs):\n",
    "    # Reset the metrics at the start of the next epoch\n",
    "    train_loss.reset_states()\n",
    "    train_accuracy.reset_states()\n",
    "    test_loss.reset_states()\n",
    "    test_accuracy.reset_states()\n",
    "\n",
    "    for word_id, labels in train_ds:\n",
    "        train_step(model, word_id, labels, drop_rate=dropouts)\n",
    "\n",
    "    for word_id, labels in test_ds:\n",
    "        test_step(model, word_id, labels, drop_rate=0)\n",
    "\n",
    "    test_acc.append(test_accuracy.result())\n",
    "    train_entropy_loss.append(train_loss.result())\n",
    "    template = 'Epoch {}, Loss: {}, Accuracy: {}, Test Loss: {}, Test Accuracy: {}'\n",
    "    print (template.format(epoch+1,\n",
    "                          train_loss.result(),\n",
    "                          train_accuracy.result(),\n",
    "                          test_loss.result(),\n",
    "                          test_accuracy.result()))"
   ]
  },
  {
   "cell_type": "code",
   "execution_count": 11,
   "metadata": {
    "colab": {
     "base_uri": "https://localhost:8080/",
     "height": 312
    },
    "executionInfo": {
     "elapsed": 49,
     "status": "ok",
     "timestamp": 1604671701409,
     "user": {
      "displayName": "Anh Tú Đỗ",
      "photoUrl": "https://lh3.googleusercontent.com/a-/AOh14Ghp14Wne_q6bWGUed10hxmbIVNasEt-giIP8qLB=s64",
      "userId": "06292639486663493436"
     },
     "user_tz": -480
    },
    "id": "3jN7PTvRwuN_",
    "outputId": "603cc1f6-998d-4c36-8af2-ab5836a3fab2"
   },
   "outputs": [
    {
     "name": "stderr",
     "output_type": "stream",
     "text": [
      "No handles with labels found to put in legend.\n"
     ]
    },
    {
     "data": {
      "image/png": "[encoded data removed]",
      "text/plain": [
       "<Figure size 432x288 with 1 Axes>"
      ]
     },
     "metadata": {
      "needs_background": "light",
      "tags": []
     },
     "output_type": "display_data"
    }
   ],
   "source": [
    "#Plot test accuracy\n",
    "pylab.figure()\n",
    "pylab.plot(np.arange(no_epochs), test_acc)\n",
    "pylab.xlabel('epochs')\n",
    "pylab.ylabel('test accuracy')\n",
    "pylab.title('Test Accuracy vs Epochs (Dropout = 0.5) for Word RNN')\n",
    "pylab.legend(loc='lower right')\n",
    "pylab.show()"
   ]
  },
  {
   "cell_type": "code",
   "execution_count": 12,
   "metadata": {
    "colab": {
     "base_uri": "https://localhost:8080/",
     "height": 312
    },
    "executionInfo": {
     "elapsed": 33,
     "status": "ok",
     "timestamp": 1604671701411,
     "user": {
      "displayName": "Anh Tú Đỗ",
      "photoUrl": "https://lh3.googleusercontent.com/a-/AOh14Ghp14Wne_q6bWGUed10hxmbIVNasEt-giIP8qLB=s64",
      "userId": "06292639486663493436"
     },
     "user_tz": -480
    },
    "id": "D716SCygyw1j",
    "outputId": "a079711b-d472-4eae-c948-847c26dbc654"
   },
   "outputs": [
    {
     "name": "stderr",
     "output_type": "stream",
     "text": [
      "No handles with labels found to put in legend.\n"
     ]
    },
    {
     "data": {
      "image/png": "[encoded data removed]",
      "text/plain": [
       "<Figure size 432x288 with 1 Axes>"
      ]
     },
     "metadata": {
      "needs_background": "light",
      "tags": []
     },
     "output_type": "display_data"
    }
   ],
   "source": [
    "# Plot train loss\n",
    "pylab.figure()\n",
    "pylab.plot(np.arange(no_epochs), train_entropy_loss)\n",
    "pylab.xlabel('epochs')\n",
    "pylab.ylabel('train loss')\n",
    "pylab.title('Train Loss vs Epochs (Dropout = 0.5) for Word RNN')\n",
    "pylab.legend(loc='upper right')\n",
    "pylab.show()"
   ]
  },
  {
   "cell_type": "code",
   "execution_count": 13,
   "metadata": {
    "colab": {
     "base_uri": "https://localhost:8080/"
    },
    "executionInfo": {
     "elapsed": 1990,
     "status": "ok",
     "timestamp": 1604671864664,
     "user": {
      "displayName": "Anh Tú Đỗ",
      "photoUrl": "https://lh3.googleusercontent.com/a-/AOh14Ghp14Wne_q6bWGUed10hxmbIVNasEt-giIP8qLB=s64",
      "userId": "06292639486663493436"
     },
     "user_tz": -480
    },
    "id": "2wGr17bg5P2G",
    "outputId": "25f7f705-d82c-476f-9dd7-fee49d4380cb"
   },
   "outputs": [
    {
     "data": {
      "text/plain": [
       "0.8814286"
      ]
     },
     "execution_count": 13,
     "metadata": {
      "tags": []
     },
     "output_type": "execute_result"
    }
   ],
   "source": [
    "#Get max test_accuracy for comparison\n",
    "np.max(test_acc)"
   ]
  },
  {
   "cell_type": "code",
   "execution_count": 14,
   "metadata": {
    "colab": {
     "base_uri": "https://localhost:8080/"
    },
    "executionInfo": {
     "elapsed": 1563,
     "status": "ok",
     "timestamp": 1604673223995,
     "user": {
      "displayName": "Anh Tú Đỗ",
      "photoUrl": "https://lh3.googleusercontent.com/a-/AOh14Ghp14Wne_q6bWGUed10hxmbIVNasEt-giIP8qLB=s64",
      "userId": "06292639486663493436"
     },
     "user_tz": -480
    },
    "id": "gPzBDb_4-i9I",
    "outputId": "31233d26-3c63-4883-d46c-c16eea7c419f"
   },
   "outputs": [
    {
     "data": {
      "text/plain": [
       "0.020976078"
      ]
     },
     "execution_count": 14,
     "metadata": {
      "tags": []
     },
     "output_type": "execute_result"
    }
   ],
   "source": [
    "np.min(train_entropy_loss)"
   ]
  }
 ],
 "metadata": {
  "accelerator": "GPU",
  "colab": {
   "authorship_tag": "ABX9TyNS6Fy00jBL/ONAmNPKmV+E",
   "collapsed_sections": [],
   "name": "4B-dropout.ipynb",
   "provenance": [
    {
     "file_id": "1BkXR1CzQp2Jm8Q-4lk4njobnpxZt3619",
     "timestamp": 1604669201048
    },
    {
     "file_id": "1Sxs7PC98WE1EVnJBh7pIW0LAqwwwGZbH",
     "timestamp": 1604368637301
    }
   ]
  },
  "kernelspec": {
   "display_name": "Python 3",
   "language": "python",
   "name": "python3"
  },
  "language_info": {
   "codemirror_mode": {
    "name": "ipython",
    "version": 3
   },
   "file_extension": ".py",
   "mimetype": "text/x-python",
   "name": "python",
   "nbconvert_exporter": "python",
   "pygments_lexer": "ipython3",
   "version": "3.8.5"
  }
 },
 "nbformat": 4,
 "nbformat_minor": 1
}
