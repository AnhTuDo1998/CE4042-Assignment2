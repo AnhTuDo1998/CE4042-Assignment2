{
 "cells": [
  {
   "cell_type": "code",
   "execution_count": null,
   "metadata": {
    "id": "LI1K6jzxb9RG"
   },
   "outputs": [],
   "source": [
    "#Collab bootstrapping for accessing files from google drive\n",
    "from pydrive.auth import GoogleAuth\n",
    "from pydrive.drive import GoogleDrive\n",
    "from google.colab import auth\n",
    "from oauth2client.client import GoogleCredentials\n",
    "\n",
    "auth.authenticate_user()\n",
    "gauth = GoogleAuth()\n",
    "gauth.credentials = GoogleCredentials.get_application_default()\n",
    "drive = GoogleDrive(gauth)"
   ]
  },
  {
   "cell_type": "code",
   "execution_count": null,
   "metadata": {
    "id": "cmRwtHZRcwfP"
   },
   "outputs": [],
   "source": [
    "#Get the pickles\n",
    "downloaded = drive.CreateFile({'id':\"1aEoZt-nUQjvBum2342wuTBTdnxT98a2r\"})\n",
    "downloaded.GetContentFile('data_batch_1')\n",
    "\n",
    "downloaded = drive.CreateFile({'id':\"181kNZYyLqWNuYgX-d50Avf27GWoTbZZi\"})\n",
    "downloaded.GetContentFile('test_batch_trim')"
   ]
  },
  {
   "cell_type": "code",
   "execution_count": null,
   "metadata": {
    "id": "DUCpDQcGeCka"
   },
   "outputs": [],
   "source": [
    "import os\n",
    "import pickle\n",
    "\n",
    "import matplotlib.pyplot as plt\n",
    "import numpy as np\n",
    "import tensorflow as tf\n",
    "import tensorflow.keras as keras\n",
    "from tensorflow.keras import layers"
   ]
  },
  {
   "cell_type": "code",
   "execution_count": null,
   "metadata": {
    "colab": {
     "base_uri": "https://localhost:8080/"
    },
    "executionInfo": {
     "elapsed": 11554,
     "status": "ok",
     "timestamp": 1605197256663,
     "user": {
      "displayName": "Anh Tú Đỗ",
      "photoUrl": "https://lh3.googleusercontent.com/a-/AOh14Ghp14Wne_q6bWGUed10hxmbIVNasEt-giIP8qLB=s64",
      "userId": "06292639486663493436"
     },
     "user_tz": -480
    },
    "id": "bo8SETAvAWNk",
    "outputId": "47f80260-9c0b-454a-833d-1f79b00985ba"
   },
   "outputs": [
    {
     "name": "stdout",
     "output_type": "stream",
     "text": [
      "Drive already mounted at /content/drive; to attempt to forcibly remount, call drive.mount(\"/content/drive\", force_remount=True).\n"
     ]
    }
   ],
   "source": [
    "from google.colab import drive\n",
    "drive.mount('/content/drive')\n",
    "drive_prefix = '/content/drive/My Drive/CE4042/Assignment2/PartA'\n",
    "\n",
    "# Create folder to store models and results\n",
    "if not os.path.exists(drive_prefix+'/models'):\n",
    "    os.mkdir(drive_prefix+'/models')\n",
    "if not os.path.exists(drive_prefix+'/results'):\n",
    "    os.mkdir(drive_prefix+'/results')"
   ]
  },
  {
   "cell_type": "code",
   "execution_count": null,
   "metadata": {
    "id": "coVHcWiOeEJ8"
   },
   "outputs": [],
   "source": [
    "# Fixed, no need change\n",
    "def load_data(file):\n",
    "    with open(file, 'rb') as fo:\n",
    "        try:\n",
    "            samples = pickle.load(fo)\n",
    "        except UnicodeDecodeError:  # python 3.x\n",
    "            fo.seek(0)\n",
    "            samples = pickle.load(fo, encoding='latin1')\n",
    "\n",
    "    data, labels = samples['data'], samples['labels']\n",
    "\n",
    "    data = np.array(data, dtype=np.float32) / 255\n",
    "    labels = np.array(labels, dtype=np.int32)\n",
    "    return data, labels"
   ]
  },
  {
   "cell_type": "code",
   "execution_count": null,
   "metadata": {
    "id": "eIUNXuIohtx3"
   },
   "outputs": [],
   "source": [
    "def make_model(num_ch_c1, num_ch_c2, use_dropout):\n",
    "    ''' Note: This model is incomplete. You need to add suitable layers.\n",
    "    '''\n",
    "\n",
    "    model = tf.keras.Sequential()\n",
    "    #First conv and maxpool\n",
    "    model.add(layers.Conv2D(num_ch_c1, 9, padding='VALID', activation='relu', name=\"c1\",input_shape=(32,32,3)))\n",
    "    model.add(layers.MaxPool2D(pool_size=(2,2),strides=2,padding=\"VALID\", name=\"s1\"))\n",
    "    #Second conv and maxpool\n",
    "    model.add(layers.Conv2D(num_ch_c2, 5,padding='VALID',activation='relu',name=\"c2\"))\n",
    "    model.add(layers.MaxPool2D(pool_size=(2,2),strides=2,padding='VALID',name=\"s2\"))\n",
    "    #Moving on to FCs\n",
    "    model.add(layers.Flatten())\n",
    "    model.add(layers.Dense(300,activation=None))\n",
    "    model.add(layers.Dense(10, use_bias=True))  # Here no softmax because we have combined it with the loss\n",
    "    return model\n",
    "\n"
   ]
  },
  {
   "cell_type": "code",
   "execution_count": null,
   "metadata": {
    "id": "1V1LLY3rh61a"
   },
   "outputs": [],
   "source": [
    "#Variables, constants and hyper parameters definition\n",
    "seed = 0\n",
    "np.random.seed(seed)\n",
    "tf.random.set_seed(seed)\n",
    "\n",
    "num_ch_c1 = [10,30,50,70,90]  # Question 2\n",
    "num_ch_c2 = [20,40,60,80,100]  # Question 2\n",
    "\n",
    "epochs = 1000  # Fixed\n",
    "batch_size = 128  # Fixed\n",
    "learning_rate = 0.001\n",
    "optimizer_ = 'SGD'  # Question 3\n",
    "use_dropout = False  # Question 3(d) (see make_model)\n",
    "get_feature_map = False #Decide if to generate feature map\n",
    "loss = tf.keras.losses.SparseCategoricalCrossentropy(from_logits=True)\n",
    "\n",
    "if optimizer_ == 'SGD':\n",
    "    optimizer = keras.optimizers.SGD(learning_rate=learning_rate)\n",
    "elif optimizer_ == 'SGD-momentum':  # Question 3(a)\n",
    "    raise NotImplementedError('Complete it by yourself')\n",
    "elif optimizer_ == 'RMSProp':  # Question 3(b)\n",
    "    raise NotImplementedError('Complete it by yourself')\n",
    "elif optimizer_ == 'Adam':  # Question 3(c)\n",
    "    raise NotImplementedError('Complete it by yourself')\n",
    "else:\n",
    "    raise NotImplementedError(f'You do not need to handle [{optimizer_}] in this project.')"
   ]
  },
  {
   "cell_type": "code",
   "execution_count": null,
   "metadata": {
    "id": "PyL0DHiAnAzC"
   },
   "outputs": [],
   "source": [
    "# Training and test\n",
    "x_train, y_train = load_data('data_batch_1')\n",
    "x_test, y_test = load_data('test_batch_trim')\n",
    "\n",
    "#Reshape and transpose image\n",
    "x_train = x_train.reshape(10000, 3, 32, 32).transpose(0,2,3,1)\n",
    "x_test = x_test.reshape(2000, 3, 32, 32).transpose(0,2,3,1)"
   ]
  },
  {
   "cell_type": "code",
   "execution_count": null,
   "metadata": {
    "colab": {
     "base_uri": "https://localhost:8080/"
    },
    "executionInfo": {
     "elapsed": 2888662,
     "status": "ok",
     "timestamp": 1605203238194,
     "user": {
      "displayName": "Anh Tú Đỗ",
      "photoUrl": "https://lh3.googleusercontent.com/a-/AOh14Ghp14Wne_q6bWGUed10hxmbIVNasEt-giIP8qLB=s64",
      "userId": "06292639486663493436"
     },
     "user_tz": -480
    },
    "id": "9tMDE1KTh_l_",
    "outputId": "a028c5de-c6e2-4a25-901d-8a3add567ad6"
   },
   "outputs": [
    {
     "name": "stdout",
     "output_type": "stream",
     "text": [
      "Building and training n_filter_1 = 10, n_filter_2 = 20\n",
      "WARNING:tensorflow:From /usr/local/lib/python3.6/dist-packages/tensorflow/python/training/tracking/tracking.py:111: Model.state_updates (from tensorflow.python.keras.engine.training) is deprecated and will be removed in a future version.\n",
      "Instructions for updating:\n",
      "This property should not be used in TensorFlow 2.0, as updates are applied automatically.\n",
      "WARNING:tensorflow:From /usr/local/lib/python3.6/dist-packages/tensorflow/python/training/tracking/tracking.py:111: Layer.updates (from tensorflow.python.keras.engine.base_layer) is deprecated and will be removed in a future version.\n",
      "Instructions for updating:\n",
      "This property should not be used in TensorFlow 2.0, as updates are applied automatically.\n",
      "INFO:tensorflow:Assets written to: /content/drive/My Drive/CE4042/Assignment2/PartA/models/10_20_SGD_no_dropout/assets\n",
      "Best test accuracy for n_filter_1 = 10, n_filter_2 = 20 : 0.5440000295639038 \n",
      "Building and training n_filter_1 = 10, n_filter_2 = 40\n",
      "INFO:tensorflow:Assets written to: /content/drive/My Drive/CE4042/Assignment2/PartA/models/10_40_SGD_no_dropout/assets\n",
      "Best test accuracy for n_filter_1 = 10, n_filter_2 = 40 : 0.550000011920929 \n",
      "Building and training n_filter_1 = 10, n_filter_2 = 60\n",
      "INFO:tensorflow:Assets written to: /content/drive/My Drive/CE4042/Assignment2/PartA/models/10_60_SGD_no_dropout/assets\n",
      "Best test accuracy for n_filter_1 = 10, n_filter_2 = 60 : 0.5454999804496765 \n",
      "Building and training n_filter_1 = 10, n_filter_2 = 80\n",
      "INFO:tensorflow:Assets written to: /content/drive/My Drive/CE4042/Assignment2/PartA/models/10_80_SGD_no_dropout/assets\n",
      "Best test accuracy for n_filter_1 = 10, n_filter_2 = 80 : 0.5550000071525574 \n",
      "Building and training n_filter_1 = 10, n_filter_2 = 100\n",
      "INFO:tensorflow:Assets written to: /content/drive/My Drive/CE4042/Assignment2/PartA/models/10_100_SGD_no_dropout/assets\n",
      "Best test accuracy for n_filter_1 = 10, n_filter_2 = 100 : 0.5559999942779541 \n",
      "Building and training n_filter_1 = 30, n_filter_2 = 20\n",
      "INFO:tensorflow:Assets written to: /content/drive/My Drive/CE4042/Assignment2/PartA/models/30_20_SGD_no_dropout/assets\n",
      "Best test accuracy for n_filter_1 = 30, n_filter_2 = 20 : 0.5695000290870667 \n",
      "Building and training n_filter_1 = 30, n_filter_2 = 40\n",
      "INFO:tensorflow:Assets written to: /content/drive/My Drive/CE4042/Assignment2/PartA/models/30_40_SGD_no_dropout/assets\n",
      "Best test accuracy for n_filter_1 = 30, n_filter_2 = 40 : 0.5820000171661377 \n",
      "Building and training n_filter_1 = 30, n_filter_2 = 60\n",
      "INFO:tensorflow:Assets written to: /content/drive/My Drive/CE4042/Assignment2/PartA/models/30_60_SGD_no_dropout/assets\n",
      "Best test accuracy for n_filter_1 = 30, n_filter_2 = 60 : 0.5879999995231628 \n",
      "Building and training n_filter_1 = 30, n_filter_2 = 80\n",
      "INFO:tensorflow:Assets written to: /content/drive/My Drive/CE4042/Assignment2/PartA/models/30_80_SGD_no_dropout/assets\n",
      "Best test accuracy for n_filter_1 = 30, n_filter_2 = 80 : 0.565500020980835 \n",
      "Building and training n_filter_1 = 30, n_filter_2 = 100\n",
      "INFO:tensorflow:Assets written to: /content/drive/My Drive/CE4042/Assignment2/PartA/models/30_100_SGD_no_dropout/assets\n",
      "Best test accuracy for n_filter_1 = 30, n_filter_2 = 100 : 0.5835000276565552 \n",
      "Building and training n_filter_1 = 50, n_filter_2 = 20\n",
      "INFO:tensorflow:Assets written to: /content/drive/My Drive/CE4042/Assignment2/PartA/models/50_20_SGD_no_dropout/assets\n",
      "Best test accuracy for n_filter_1 = 50, n_filter_2 = 20 : 0.5715000033378601 \n",
      "Building and training n_filter_1 = 50, n_filter_2 = 40\n",
      "INFO:tensorflow:Assets written to: /content/drive/My Drive/CE4042/Assignment2/PartA/models/50_40_SGD_no_dropout/assets\n",
      "Best test accuracy for n_filter_1 = 50, n_filter_2 = 40 : 0.5864999890327454 \n",
      "Building and training n_filter_1 = 50, n_filter_2 = 60\n",
      "INFO:tensorflow:Assets written to: /content/drive/My Drive/CE4042/Assignment2/PartA/models/50_60_SGD_no_dropout/assets\n",
      "Best test accuracy for n_filter_1 = 50, n_filter_2 = 60 : 0.5830000042915344 \n",
      "Building and training n_filter_1 = 50, n_filter_2 = 80\n",
      "INFO:tensorflow:Assets written to: /content/drive/My Drive/CE4042/Assignment2/PartA/models/50_80_SGD_no_dropout/assets\n",
      "Best test accuracy for n_filter_1 = 50, n_filter_2 = 80 : 0.5860000252723694 \n",
      "Building and training n_filter_1 = 50, n_filter_2 = 100\n",
      "INFO:tensorflow:Assets written to: /content/drive/My Drive/CE4042/Assignment2/PartA/models/50_100_SGD_no_dropout/assets\n",
      "Best test accuracy for n_filter_1 = 50, n_filter_2 = 100 : 0.5855000019073486 \n",
      "Building and training n_filter_1 = 70, n_filter_2 = 20\n",
      "INFO:tensorflow:Assets written to: /content/drive/My Drive/CE4042/Assignment2/PartA/models/70_20_SGD_no_dropout/assets\n",
      "Best test accuracy for n_filter_1 = 70, n_filter_2 = 20 : 0.5889999866485596 \n",
      "Building and training n_filter_1 = 70, n_filter_2 = 40\n",
      "INFO:tensorflow:Assets written to: /content/drive/My Drive/CE4042/Assignment2/PartA/models/70_40_SGD_no_dropout/assets\n",
      "Best test accuracy for n_filter_1 = 70, n_filter_2 = 40 : 0.5910000205039978 \n",
      "Building and training n_filter_1 = 70, n_filter_2 = 60\n",
      "INFO:tensorflow:Assets written to: /content/drive/My Drive/CE4042/Assignment2/PartA/models/70_60_SGD_no_dropout/assets\n",
      "Best test accuracy for n_filter_1 = 70, n_filter_2 = 60 : 0.6000000238418579 \n",
      "Building and training n_filter_1 = 70, n_filter_2 = 80\n",
      "INFO:tensorflow:Assets written to: /content/drive/My Drive/CE4042/Assignment2/PartA/models/70_80_SGD_no_dropout/assets\n",
      "Best test accuracy for n_filter_1 = 70, n_filter_2 = 80 : 0.5870000123977661 \n",
      "Building and training n_filter_1 = 70, n_filter_2 = 100\n",
      "INFO:tensorflow:Assets written to: /content/drive/My Drive/CE4042/Assignment2/PartA/models/70_100_SGD_no_dropout/assets\n",
      "Best test accuracy for n_filter_1 = 70, n_filter_2 = 100 : 0.6010000109672546 \n",
      "Building and training n_filter_1 = 90, n_filter_2 = 20\n",
      "INFO:tensorflow:Assets written to: /content/drive/My Drive/CE4042/Assignment2/PartA/models/90_20_SGD_no_dropout/assets\n",
      "Best test accuracy for n_filter_1 = 90, n_filter_2 = 20 : 0.5924999713897705 \n",
      "Building and training n_filter_1 = 90, n_filter_2 = 40\n",
      "INFO:tensorflow:Assets written to: /content/drive/My Drive/CE4042/Assignment2/PartA/models/90_40_SGD_no_dropout/assets\n",
      "Best test accuracy for n_filter_1 = 90, n_filter_2 = 40 : 0.5995000004768372 \n",
      "Building and training n_filter_1 = 90, n_filter_2 = 60\n",
      "INFO:tensorflow:Assets written to: /content/drive/My Drive/CE4042/Assignment2/PartA/models/90_60_SGD_no_dropout/assets\n",
      "Best test accuracy for n_filter_1 = 90, n_filter_2 = 60 : 0.5995000004768372 \n",
      "Building and training n_filter_1 = 90, n_filter_2 = 80\n",
      "INFO:tensorflow:Assets written to: /content/drive/My Drive/CE4042/Assignment2/PartA/models/90_80_SGD_no_dropout/assets\n",
      "Best test accuracy for n_filter_1 = 90, n_filter_2 = 80 : 0.5845000147819519 \n",
      "Building and training n_filter_1 = 90, n_filter_2 = 100\n",
      "INFO:tensorflow:Assets written to: /content/drive/My Drive/CE4042/Assignment2/PartA/models/90_100_SGD_no_dropout/assets\n",
      "Best test accuracy for n_filter_1 = 90, n_filter_2 = 100 : 0.5860000252723694 \n"
     ]
    }
   ],
   "source": [
    "best_results=[]\n",
    "best_results_labels=[]\n",
    "\n",
    "for n_filter_1 in num_ch_c1:\n",
    "  for n_filter_2 in num_ch_c2:\n",
    "    print(\"Building and training n_filter_1 = %s, n_filter_2 = %s\"%(n_filter_1,n_filter_2))\n",
    "    #Build model and training\n",
    "    model = make_model(n_filter_1, n_filter_2, use_dropout)\n",
    "    model.compile(optimizer=optimizer, loss=loss, metrics='accuracy')\n",
    "    #Training\n",
    "    history = model.fit(\n",
    "            x_train,\n",
    "            y_train,\n",
    "            batch_size=batch_size,\n",
    "            epochs=epochs,\n",
    "            validation_data=(x_test, y_test),\n",
    "            verbose=0)\n",
    "    \n",
    "    # Save model\n",
    "    if use_dropout:\n",
    "        model.save(f'{drive_prefix}/models/{n_filter_1}_{n_filter_2}_{optimizer_}_dropout')\n",
    "    else:\n",
    "        model.save(f'{drive_prefix}/models/{n_filter_1}_{n_filter_2}_{optimizer_}_no_dropout')\n",
    "\n",
    "    #Get the best test accuracy result and store inside the best_results_dict\n",
    "    best_test_acc = np.max(history.history['val_accuracy'])\n",
    "    print(\"Best test accuracy for n_filter_1 = %s, n_filter_2 = %s : %s \"%(n_filter_1, n_filter_2,best_test_acc))\n",
    "    best_results_labels.append(f'({n_filter_1},{n_filter_2})')\n",
    "    best_results.append(best_test_acc)"
   ]
  },
  {
   "cell_type": "code",
   "execution_count": null,
   "metadata": {
    "colab": {
     "base_uri": "https://localhost:8080/",
     "height": 545
    },
    "executionInfo": {
     "elapsed": 41,
     "status": "ok",
     "timestamp": 1605203238197,
     "user": {
      "displayName": "Anh Tú Đỗ",
      "photoUrl": "https://lh3.googleusercontent.com/a-/AOh14Ghp14Wne_q6bWGUed10hxmbIVNasEt-giIP8qLB=s64",
      "userId": "06292639486663493436"
     },
     "user_tz": -480
    },
    "id": "MIo3Y_ckN3VO",
    "outputId": "c8f41bed-40d9-417c-f961-d1b9e04d2025"
   },
   "outputs": [
    {
     "data": {
      "image/png": "[encoded data removed]",
      "text/plain": [
       "<Figure size 864x576 with 1 Axes>"
      ]
     },
     "metadata": {
      "needs_background": "light",
      "tags": []
     },
     "output_type": "display_data"
    }
   ],
   "source": [
    "plt.figure(figsize=(12,8))\n",
    "plt.plot(best_results_labels,best_results,marker ='x')\n",
    "plt.xticks(rotation=90)\n",
    "plt.title('Best Test Accuracy vs Combination of (C1,C2) filter number')\n",
    "plt.ylabel('Test Acc')\n",
    "plt.xlabel('Combinations')\n",
    "\n",
    "plt.savefig(f'{drive_prefix}/results/best_accuracy_2A.png')"
   ]
  },
  {
   "cell_type": "code",
   "execution_count": null,
   "metadata": {
    "colab": {
     "base_uri": "https://localhost:8080/"
    },
    "executionInfo": {
     "elapsed": 26,
     "status": "ok",
     "timestamp": 1605203238198,
     "user": {
      "displayName": "Anh Tú Đỗ",
      "photoUrl": "https://lh3.googleusercontent.com/a-/AOh14Ghp14Wne_q6bWGUed10hxmbIVNasEt-giIP8qLB=s64",
      "userId": "06292639486663493436"
     },
     "user_tz": -480
    },
    "id": "QPvwUbGFOw27",
    "outputId": "5b143ee0-5178-4436-e744-fb6067d00044"
   },
   "outputs": [
    {
     "data": {
      "text/plain": [
       "[0.5440000295639038,\n",
       " 0.550000011920929,\n",
       " 0.5454999804496765,\n",
       " 0.5550000071525574,\n",
       " 0.5559999942779541,\n",
       " 0.5695000290870667,\n",
       " 0.5820000171661377,\n",
       " 0.5879999995231628,\n",
       " 0.565500020980835,\n",
       " 0.5835000276565552,\n",
       " 0.5715000033378601,\n",
       " 0.5864999890327454,\n",
       " 0.5830000042915344,\n",
       " 0.5860000252723694,\n",
       " 0.5855000019073486,\n",
       " 0.5889999866485596,\n",
       " 0.5910000205039978,\n",
       " 0.6000000238418579,\n",
       " 0.5870000123977661,\n",
       " 0.6010000109672546,\n",
       " 0.5924999713897705,\n",
       " 0.5995000004768372,\n",
       " 0.5995000004768372,\n",
       " 0.5845000147819519,\n",
       " 0.5860000252723694]"
      ]
     },
     "execution_count": 11,
     "metadata": {
      "tags": []
     },
     "output_type": "execute_result"
    }
   ],
   "source": [
    "best_results"
   ]
  },
  {
   "cell_type": "code",
   "execution_count": null,
   "metadata": {
    "colab": {
     "base_uri": "https://localhost:8080/"
    },
    "executionInfo": {
     "elapsed": 22,
     "status": "ok",
     "timestamp": 1605203238199,
     "user": {
      "displayName": "Anh Tú Đỗ",
      "photoUrl": "https://lh3.googleusercontent.com/a-/AOh14Ghp14Wne_q6bWGUed10hxmbIVNasEt-giIP8qLB=s64",
      "userId": "06292639486663493436"
     },
     "user_tz": -480
    },
    "id": "be9O9wjAPoZG",
    "outputId": "5baf0ba8-6a1c-4cb8-f0ce-ab348f1f7f2c"
   },
   "outputs": [
    {
     "data": {
      "text/plain": [
       "['(10,20)',\n",
       " '(10,40)',\n",
       " '(10,60)',\n",
       " '(10,80)',\n",
       " '(10,100)',\n",
       " '(30,20)',\n",
       " '(30,40)',\n",
       " '(30,60)',\n",
       " '(30,80)',\n",
       " '(30,100)',\n",
       " '(50,20)',\n",
       " '(50,40)',\n",
       " '(50,60)',\n",
       " '(50,80)',\n",
       " '(50,100)',\n",
       " '(70,20)',\n",
       " '(70,40)',\n",
       " '(70,60)',\n",
       " '(70,80)',\n",
       " '(70,100)',\n",
       " '(90,20)',\n",
       " '(90,40)',\n",
       " '(90,60)',\n",
       " '(90,80)',\n",
       " '(90,100)']"
      ]
     },
     "execution_count": 12,
     "metadata": {
      "tags": []
     },
     "output_type": "execute_result"
    }
   ],
   "source": [
    "best_results_labels"
   ]
  }
 ],
 "metadata": {
  "accelerator": "GPU",
  "colab": {
   "authorship_tag": "ABX9TyMcOzxU9sVwiuA5Wrhdx/kp",
   "name": "2A.ipynb",
   "provenance": [
    {
     "file_id": "1enHka7yghHtvqXlGJxTUpD08ZUcsogS_",
     "timestamp": 1604793306338
    }
   ]
  },
  "kernelspec": {
   "display_name": "Python 3",
   "language": "python",
   "name": "python3"
  },
  "language_info": {
   "codemirror_mode": {
    "name": "ipython",
    "version": 3
   },
   "file_extension": ".py",
   "mimetype": "text/x-python",
   "name": "python",
   "nbconvert_exporter": "python",
   "pygments_lexer": "ipython3",
   "version": "3.8.5"
  }
 },
 "nbformat": 4,
 "nbformat_minor": 1
}
